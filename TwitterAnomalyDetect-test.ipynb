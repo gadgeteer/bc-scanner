{
 "cells": [
  {
   "cell_type": "code",
   "execution_count": 1,
   "metadata": {},
   "outputs": [],
   "source": [
    "from tad.anomaly_detect_ts import _detect_anoms, anomaly_detect_ts,\\\n",
    "    _get_data_tuple, _get_max_outliers, _get_decomposed_data_tuple,\\\n",
    "    _perform_threshold_filter, _get_plot_breaks, _get_only_last_results\n",
    "\n",
    "import pandas as pd\n",
    "import numpy as np\n",
    "from pathlib import Path\n",
    "from pandas.core.series import Series"
   ]
  },
  {
   "cell_type": "code",
   "execution_count": 2,
   "metadata": {},
   "outputs": [
    {
     "name": "stderr",
     "output_type": "stream",
     "text": [
      "/usr/local/lib/python3.6/dist-packages/ipykernel_launcher.py:2: FutureWarning: The pandas.datetime class is deprecated and will be removed from pandas in a future version. Import from datetime instead.\n",
      "  \n"
     ]
    },
    {
     "data": {
      "text/plain": [
       "timestamp\n",
       "1980-09-25 14:01:00    182.478\n",
       "1980-09-25 14:02:00    176.231\n",
       "1980-09-25 14:03:00    183.917\n",
       "1980-09-25 14:04:00    177.798\n",
       "1980-09-25 14:05:00    165.469\n",
       "                        ...   \n",
       "1980-10-05 13:54:00    151.492\n",
       "1980-10-05 13:55:00    151.724\n",
       "1980-10-05 13:56:00    153.776\n",
       "1980-10-05 13:57:00    150.481\n",
       "1980-10-05 13:58:00    146.638\n",
       "Name: count, Length: 14398, dtype: float64"
      ]
     },
     "execution_count": 2,
     "metadata": {},
     "output_type": "execute_result"
    }
   ],
   "source": [
    "def dparserfunc(date):\n",
    "        return pd.datetime.strptime(date, '%Y-%m-%d %H:%M:%S')\n",
    "\n",
    "data1 = pd.read_csv('https://raw.githubusercontent.com/Marcnuth/AnomalyDetection/master/resources/data/test_data_1.csv', index_col='timestamp',\n",
    "                       parse_dates=True, squeeze=True,\n",
    "                       date_parser=dparserfunc)\n",
    "\n",
    "data1"
   ]
  },
  {
   "cell_type": "code",
   "execution_count": 3,
   "metadata": {},
   "outputs": [
    {
     "name": "stderr",
     "output_type": "stream",
     "text": [
      "/home/jovyan/.local/lib/python3.6/site-packages/tad/anomaly_detect_ts.py:412: FutureWarning: the 'freq'' keyword is deprecated, use 'period' instead\n",
      "  data, freq=num_obs_per_period, two_sided=False)\n"
     ]
    }
   ],
   "source": [
    "results = anomaly_detect_ts(data1,\n",
    "                                      direction='both', alpha=0.05,\n",
    "                                      plot=False, longterm=True)"
   ]
  },
  {
   "cell_type": "code",
   "execution_count": 4,
   "metadata": {},
   "outputs": [
    {
     "data": {
      "text/plain": [
       "{'anoms': 1980-09-25 16:05:00     21.3510\n",
       " 1980-10-05 13:38:00     40.0000\n",
       " 1980-09-30 20:51:00    203.2310\n",
       " 1980-09-30 20:33:00    200.3090\n",
       " 1980-09-30 20:32:00    203.9010\n",
       "                          ...   \n",
       " 1980-10-02 16:21:00     90.3287\n",
       " 1980-10-03 16:31:00     93.0723\n",
       " 1980-10-05 01:14:00     52.0359\n",
       " 1980-09-30 20:16:00    154.7750\n",
       " 1980-09-30 20:21:00    147.0280\n",
       " Length: 132, dtype: float64,\n",
       " 'expected': None,\n",
       " 'plot': None}"
      ]
     },
     "execution_count": 4,
     "metadata": {},
     "output_type": "execute_result"
    }
   ],
   "source": [
    "results"
   ]
  },
  {
   "cell_type": "code",
   "execution_count": null,
   "metadata": {},
   "outputs": [],
   "source": []
  }
 ],
 "metadata": {
  "kernelspec": {
   "display_name": "Python 3",
   "language": "python",
   "name": "python3"
  },
  "language_info": {
   "codemirror_mode": {
    "name": "ipython",
    "version": 3
   },
   "file_extension": ".py",
   "mimetype": "text/x-python",
   "name": "python",
   "nbconvert_exporter": "python",
   "pygments_lexer": "ipython3",
   "version": "3.6.9"
  }
 },
 "nbformat": 4,
 "nbformat_minor": 4
}
